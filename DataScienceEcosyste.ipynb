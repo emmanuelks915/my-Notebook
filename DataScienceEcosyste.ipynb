{
 "cells": [
  {
   "cell_type": "markdown",
   "id": "9d997572-b0ac-4f83-9d95-2f7b0b2fc87d",
   "metadata": {},
   "source": [
    "# Data Science Tool and Ecosystem "
   ]
  },
  {
   "cell_type": "code",
   "execution_count": null,
   "id": "34bc6662-d5a7-4986-95a2-c4eeaf79d602",
   "metadata": {},
   "outputs": [],
   "source": []
  },
  {
   "cell_type": "markdown",
   "id": "200b76c2-53b1-4b81-bf65-ad0f158bf9a7",
   "metadata": {},
   "source": [
    "In this notebook, Data Science Tools and Ecosystem are summarized."
   ]
  },
  {
   "cell_type": "markdown",
   "id": "f9598fbe-2dad-447f-a550-ab2410a59757",
   "metadata": {},
   "source": [
    "# printing a list of popular data science languages"
   ]
  },
  {
   "cell_type": "code",
   "execution_count": 2,
   "id": "189d653a-14ee-4093-8831-3cc31a81f521",
   "metadata": {},
   "outputs": [
    {
     "name": "stdout",
     "output_type": "stream",
     "text": [
      "Some of the popular languages that Data Scientists use are:\n",
      "\n"
     ]
    }
   ],
   "source": [
    "print(\"Some of the popular languages that Data Scientists use are:\\n\")"
   ]
  },
  {
   "cell_type": "markdown",
   "id": "4f1d31ab-b10f-4e54-a3af-886841080347",
   "metadata": {},
   "source": [
    "# List of data science languages"
   ]
  },
  {
   "cell_type": "code",
   "execution_count": 4,
   "id": "cee923a3-908c-4cad-8eed-c8bcd5217b2a",
   "metadata": {},
   "outputs": [],
   "source": [
    "Languages = [\"Python\", \"R\", \"SQL\", \"Julia\", \"Scala\"]"
   ]
  },
  {
   "cell_type": "markdown",
   "id": "f94b72ec-64f7-49e6-bd8b-73722b68573d",
   "metadata": {},
   "source": [
    "# Loop through the list and print each language with its number"
   ]
  },
  {
   "cell_type": "code",
   "execution_count": 9,
   "id": "a7e6b127-4c75-4272-a9f0-287e093ab816",
   "metadata": {},
   "outputs": [
    {
     "name": "stdout",
     "output_type": "stream",
     "text": [
      "1. Python\n",
      "2. R\n",
      "3. SQL\n",
      "4. Julia\n",
      "5. Scala\n"
     ]
    }
   ],
   "source": [
    "for i, lang in enumerate(Languages, 1):\n",
    "    print(f\"{i}. {lang}\")"
   ]
  },
  {
   "cell_type": "markdown",
   "id": "f24bd27c-5e68-490c-9571-ec9108fa4ba0",
   "metadata": {},
   "source": [
    "Some of the commonly used libraries used by Data Scientists include:\n",
    "1. NumPy\n",
    "2. Pandas\n",
    "3. Matplotlib\n",
    "4. SciPy\n",
    "5. Scikit-learn"
   ]
  },
  {
   "cell_type": "markdown",
   "id": "7de7ba9b-389c-4bab-a53d-9901589b1348",
   "metadata": {},
   "source": [
    "| Data Science Tools       |\n",
    "|---------------------------|\n",
    "| Jupyter Notebook          |\n",
    "| RStudio                   |\n",
    "| Apache Zeppelin           |\n"
   ]
  },
  {
   "cell_type": "markdown",
   "id": "8f1fdb9c-be41-4424-98df-01f61b5f9a72",
   "metadata": {},
   "source": [
    "### Below are a few examples of evaluating arithmetic expressions in Python"
   ]
  },
  {
   "cell_type": "code",
   "execution_count": 11,
   "id": "b10ccd44-4ed7-4828-b785-ae876674231f",
   "metadata": {},
   "outputs": [
    {
     "data": {
      "text/plain": [
       "17"
      ]
     },
     "execution_count": 11,
     "metadata": {},
     "output_type": "execute_result"
    }
   ],
   "source": [
    "# This is a simple arithmetic expression to multiply then add integers\n",
    "(3*4)+5"
   ]
  },
  {
   "cell_type": "code",
   "execution_count": 13,
   "id": "a0f07709-0de7-4c42-bb36-45414c549f1a",
   "metadata": {},
   "outputs": [
    {
     "data": {
      "text/plain": [
       "3.3333333333333335"
      ]
     },
     "execution_count": 13,
     "metadata": {},
     "output_type": "execute_result"
    }
   ],
   "source": [
    "# This will convert 200 minutes to hours by dividing by 60\n",
    "200/60"
   ]
  },
  {
   "cell_type": "markdown",
   "id": "ffbabe7e-547a-45c7-8875-89f92f6c2c4c",
   "metadata": {},
   "source": [
    "**Objectives:**\n",
    "\n",
    "- List popular languages for Data Science\n",
    "- Create and render Markdown cells in Jupyter Notebook\n",
    "- Write Python code to perform basic arithmetic operations\n",
    "- Create a table using Markdown"
   ]
  },
  {
   "cell_type": "markdown",
   "id": "4d7d541a-493b-49c4-aabf-ce8b489c70fb",
   "metadata": {},
   "source": [
    "## Author\n",
    "Emmanuel Sekyi"
   ]
  },
  {
   "cell_type": "code",
   "execution_count": null,
   "id": "0c263086-fcdf-4eee-b3f8-310605e11227",
   "metadata": {},
   "outputs": [],
   "source": []
  }
 ],
 "metadata": {
  "kernelspec": {
   "display_name": "Python 3 (ipykernel)",
   "language": "python",
   "name": "python3"
  },
  "language_info": {
   "codemirror_mode": {
    "name": "ipython",
    "version": 3
   },
   "file_extension": ".py",
   "mimetype": "text/x-python",
   "name": "python",
   "nbconvert_exporter": "python",
   "pygments_lexer": "ipython3",
   "version": "3.11.9"
  }
 },
 "nbformat": 4,
 "nbformat_minor": 5
}
